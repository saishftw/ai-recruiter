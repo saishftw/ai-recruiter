{
 "cells": [
  {
   "cell_type": "markdown",
   "id": "828c7772",
   "metadata": {},
   "source": [
    "# AI Recruiter Pipeline\n",
    "\n",
    "paste a job description below and run all cells to see the top matching candidates for the JD"
   ]
  },
  {
   "cell_type": "code",
   "execution_count": 3,
   "id": "c25ee6ac",
   "metadata": {},
   "outputs": [],
   "source": [
    "job_description_input = \"\"\"# Financial AI Analyst - FinTech & Data Analytics\n",
    "\n",
    "## Company Overview\n",
    "We are a leading financial technology company specializing in AI-powered solutions for accounting, financial analysis, and business intelligence. Our mission is to transform traditional financial processes through innovative machine learning applications and data-driven insights.\n",
    "\n",
    "## Position Summary\n",
    "We are seeking a Financial AI Analyst to bridge the gap between financial expertise and artificial intelligence. This role involves developing AI models for financial data analysis, automating accounting processes, and creating intelligent solutions for financial reporting and analysis. The ideal candidate will combine strong financial acumen with emerging AI capabilities to revolutionize how financial data is processed and analyzed.\n",
    "\n",
    "## Key Responsibilities\n",
    "- **Financial AI Model Development**: Design and implement machine learning models for financial forecasting, fraud detection, and risk assessment\n",
    "- **Data Analysis & Financial Insights**: Analyze large financial datasets to identify patterns, trends, and anomalies using advanced analytics\n",
    "- **Automated Financial Processes**: Develop AI solutions to streamline accounts payable, accounts receivable, and general ledger processes\n",
    "- **Financial Reporting Automation**: Create intelligent systems for generating financial reports, balance sheets, and trial balances\n",
    "- **Cross-Functional Collaboration**: Work with finance, accounting, and technology teams to implement AI-driven financial solutions\n",
    "- **Model Training & Deployment**: Train machine learning models on financial data and deploy them in production environments\n",
    "- **Documentation & Compliance**: Maintain comprehensive documentation of AI models and ensure compliance with financial regulations\n",
    "- **Business Intelligence**: Develop predictive models for sales analysis, cash flow forecasting, and financial planning\n",
    "\n",
    "## Required Qualifications\n",
    "- **Education**: Master's degree in Commerce (M.Com) or Bachelor's degree in Commerce (B.Com) with strong academic background\n",
    "- **Financial Experience**: 3+ years of experience in accounting, bookkeeping, or financial analysis\n",
    "- **Technical Skills**: Proficiency in data entry, financial software, and analytical processes\n",
    "- **Software Proficiency**: Advanced Excel skills, ERP systems, QuickBooks, MYOB, and MS Office applications\n",
    "- **Languages**: Fluency in English and Hindi preferred for client communication\n",
    "\n",
    "## Technical Skills\n",
    "- **AI/ML Frameworks**: TensorFlow, PyTorch, Scikit-learn\n",
    "- **Programming**: Python, R, or Java for financial modeling and analysis\n",
    "- **Financial Software**: QuickBooks, MYOB, ERP systems, and accounting software\n",
    "- **Data Analysis**: Excel, PowerPoint, Outlook, and MIS reporting tools\n",
    "- **Financial Processes**: General ledger, accounts payable/receivable, payroll, bank reconciliation, invoicing\n",
    "\n",
    "## Preferred Experience\n",
    "- Experience with financial data analysis and sales analysis\n",
    "- Background in cash management and fixed assets accounting\n",
    "- Knowledge of accrual accounting and financial statement preparation\n",
    "- Experience with purchasing processes and vendor management\n",
    "- Supervisory or management experience in financial operations\n",
    "- Understanding of legal and compliance requirements in finance\n",
    "\n",
    "## Key Competencies\n",
    "- **Analytical Skills**: Strong ability to analyze complex financial data and identify meaningful patterns\n",
    "- **Problem-Solving**: Innovative approach to automating traditional financial processes\n",
    "- **Communication**: Excellent written and verbal communication skills for cross-functional collaboration\n",
    "- **Team Collaboration**: Proven ability to work effectively with diverse teams\n",
    "- **Detail-Oriented**: High accuracy in financial data processing and model development\n",
    "- **Adaptability**: Willingness to learn new AI technologies and apply them to financial use cases\n",
    "\n",
    "## What We Offer\n",
    "- Opportunity to be at the forefront of AI innovation in financial services\n",
    "- Comprehensive training in machine learning and AI applications\n",
    "- Career advancement opportunities in the rapidly growing FinTech sector\n",
    "- Competitive compensation package with performance-based incentives\n",
    "- Collaborative work environment with emphasis on continuous learning\n",
    "- Exposure to cutting-edge AI technologies and financial systems\n",
    "\n",
    "## Work Environment\n",
    "This is a hybrid role combining traditional financial analysis with innovative AI development. The position requires both analytical thinking for financial processes and technical aptitude for AI model development. Remote work options available with flexible scheduling.\n",
    "\n",
    "---\n",
    "\n",
    "*We are committed to creating an inclusive workplace that values diverse perspectives and backgrounds in both finance and technology.*\n",
    "\"\"\"\n"
   ]
  },
  {
   "cell_type": "markdown",
   "id": "de6b993b",
   "metadata": {},
   "source": [
    "## install dependencies"
   ]
  },
  {
   "cell_type": "code",
   "execution_count": 4,
   "id": "94cd87cd",
   "metadata": {},
   "outputs": [
    {
     "name": "stdout",
     "output_type": "stream",
     "text": [
      "\u001b[2mResolved \u001b[1m146 packages\u001b[0m \u001b[2min 7ms\u001b[0m\u001b[0m\n",
      "\u001b[2mAudited \u001b[1m100 packages\u001b[0m \u001b[2min 0.32ms\u001b[0m\u001b[0m\n",
      "\u001b[2mResolved \u001b[1m146 packages\u001b[0m \u001b[2min 0.55ms\u001b[0m\u001b[0m\n",
      "\u001b[2mAudited \u001b[1m100 packages\u001b[0m \u001b[2min 0.04ms\u001b[0m\u001b[0m\n",
      "\u001b[2mResolved \u001b[1m146 packages\u001b[0m \u001b[2min 0.50ms\u001b[0m\u001b[0m\n",
      "\u001b[2mAudited \u001b[1m100 packages\u001b[0m \u001b[2min 0.04ms\u001b[0m\u001b[0m\n",
      "\u001b[2mResolved \u001b[1m146 packages\u001b[0m \u001b[2min 0.63ms\u001b[0m\u001b[0m\n",
      "\u001b[2mAudited \u001b[1m100 packages\u001b[0m \u001b[2min 0.05ms\u001b[0m\u001b[0m\n",
      "\u001b[2mResolved \u001b[1m146 packages\u001b[0m \u001b[2min 0.53ms\u001b[0m\u001b[0m\n",
      "\u001b[2mAudited \u001b[1m100 packages\u001b[0m \u001b[2min 0.04ms\u001b[0m\u001b[0m\n",
      "\u001b[2mResolved \u001b[1m146 packages\u001b[0m \u001b[2min 1ms\u001b[0m\u001b[0m\n",
      "\u001b[2mAudited \u001b[1m100 packages\u001b[0m \u001b[2min 0.03ms\u001b[0m\u001b[0m\n",
      "\u001b[2mResolved \u001b[1m146 packages\u001b[0m \u001b[2min 0.48ms\u001b[0m\u001b[0m\n",
      "\u001b[2mAudited \u001b[1m100 packages\u001b[0m \u001b[2min 0.04ms\u001b[0m\u001b[0m\n"
     ]
    }
   ],
   "source": [
    "!uv add pandas\n",
    "!uv add numpy\n",
    "!uv add rapidfuzz\n",
    "!uv add sentence_transformers\n",
    "!uv add pydantic\n",
    "!uv add google-genai\n",
    "!uv add python-dotenv"
   ]
  },
  {
   "cell_type": "markdown",
   "id": "37942b02",
   "metadata": {},
   "source": [
    "## initialise candidate dataset"
   ]
  },
  {
   "cell_type": "code",
   "execution_count": 5,
   "id": "c3edc9c8",
   "metadata": {},
   "outputs": [
    {
     "name": "stderr",
     "output_type": "stream",
     "text": [
      "/Users/saishkakodkar/Projects/ema-assignment/.venv/lib/python3.11/site-packages/tqdm/auto.py:21: TqdmWarning: IProgress not found. Please update jupyter and ipywidgets. See https://ipywidgets.readthedocs.io/en/stable/user_install.html\n",
      "  from .autonotebook import tqdm as notebook_tqdm\n"
     ]
    }
   ],
   "source": [
    "from core.data import process_candidate_data\n",
    "from sentence_transformers import SentenceTransformer\n",
    "\n",
    "embedding_model_name = 'all-mpnet-base-v2'\n",
    "\n",
    "model = SentenceTransformer(embedding_model_name)\n",
    "df = process_candidate_data('./data/resume_data.csv', model, reload=False)"
   ]
  },
  {
   "cell_type": "markdown",
   "id": "394d4c79",
   "metadata": {},
   "source": [
    "## extract jd using llm structured outputs"
   ]
  },
  {
   "cell_type": "code",
   "execution_count": 6,
   "id": "7eac3a78",
   "metadata": {},
   "outputs": [
    {
     "name": "stdout",
     "output_type": "stream",
     "text": [
      "{\n",
      "  \"role\": \"Financial AI Analyst\",\n",
      "  \"company\": {\n",
      "    \"name\": \"Leading Financial Technology Company\",\n",
      "    \"size\": null,\n",
      "    \"stage\": null\n",
      "  },\n",
      "  \"industry\": [\n",
      "    \"Financial Technology\",\n",
      "    \"Data Analytics\",\n",
      "    \"Accounting\",\n",
      "    \"Artificial Intelligence\"\n",
      "  ],\n",
      "  \"role_objectives\": [\n",
      "    \"Bridge the gap between financial expertise and artificial intelligence\",\n",
      "    \"Develop AI models for financial data analysis, automate accounting processes, and create intelligent solutions for financial reporting and analysis\",\n",
      "    \"Revolutionize how financial data is processed and analyzed\"\n",
      "  ],\n",
      "  \"responsibilities\": [\n",
      "    \"Design and implement machine learning models for financial forecasting, fraud detection, and risk assessment\",\n",
      "    \"Analyze large financial datasets to identify patterns, trends, and anomalies using advanced analytics\",\n",
      "    \"Develop AI solutions to streamline accounts payable, accounts receivable, and general ledger processes\",\n",
      "    \"Create intelligent systems for generating financial reports, balance sheets, and trial balances\",\n",
      "    \"Work with finance, accounting, and technology teams to implement AI-driven financial solutions\",\n",
      "    \"Train machine learning models on financial data and deploy them in production environments\",\n",
      "    \"Maintain comprehensive documentation of AI models and ensure compliance with financial regulations\",\n",
      "    \"Develop predictive models for sales analysis, cash flow forecasting, and financial planning\"\n",
      "  ],\n",
      "  \"skills\": [\n",
      "    {\n",
      "      \"skill\": \"Accounting\",\n",
      "      \"priority\": \"essential\",\n",
      "      \"proficiency_level\": \"advanced\"\n",
      "    },\n",
      "    {\n",
      "      \"skill\": \"Bookkeeping\",\n",
      "      \"priority\": \"essential\",\n",
      "      \"proficiency_level\": \"advanced\"\n",
      "    },\n",
      "    {\n",
      "      \"skill\": \"Financial Analysis\",\n",
      "      \"priority\": \"essential\",\n",
      "      \"proficiency_level\": \"advanced\"\n",
      "    },\n",
      "    {\n",
      "      \"skill\": \"Data Entry\",\n",
      "      \"priority\": \"essential\",\n",
      "      \"proficiency_level\": \"advanced\"\n",
      "    },\n",
      "    {\n",
      "      \"skill\": \"General ledger management\",\n",
      "      \"priority\": \"essential\",\n",
      "      \"proficiency_level\": \"advanced\"\n",
      "    },\n",
      "    {\n",
      "      \"skill\": \"Accounts Payable/Receivable\",\n",
      "      \"priority\": \"essential\",\n",
      "      \"proficiency_level\": \"advanced\"\n",
      "    },\n",
      "    {\n",
      "      \"skill\": \"Bank Reconciliation\",\n",
      "      \"priority\": \"essential\",\n",
      "      \"proficiency_level\": \"advanced\"\n",
      "    },\n",
      "    {\n",
      "      \"skill\": \"Financial Data Analysis\",\n",
      "      \"priority\": \"important\",\n",
      "      \"proficiency_level\": \"intermediate\"\n",
      "    },\n",
      "    {\n",
      "      \"skill\": \"Sales Analysis\",\n",
      "      \"priority\": \"important\",\n",
      "      \"proficiency_level\": \"intermediate\"\n",
      "    },\n",
      "    {\n",
      "      \"skill\": \"Cash Management\",\n",
      "      \"priority\": \"important\",\n",
      "      \"proficiency_level\": \"intermediate\"\n",
      "    },\n",
      "    {\n",
      "      \"skill\": \"Fixed Assets Accounting\",\n",
      "      \"priority\": \"important\",\n",
      "      \"proficiency_level\": \"intermediate\"\n",
      "    },\n",
      "    {\n",
      "      \"skill\": \"Accrual Accounting\",\n",
      "      \"priority\": \"important\",\n",
      "      \"proficiency_level\": \"intermediate\"\n",
      "    },\n",
      "    {\n",
      "      \"skill\": \"Financial Statement Preparation\",\n",
      "      \"priority\": \"important\",\n",
      "      \"proficiency_level\": \"intermediate\"\n",
      "    },\n",
      "    {\n",
      "      \"skill\": \"Purchasing Processes\",\n",
      "      \"priority\": \"valuable\",\n",
      "      \"proficiency_level\": \"intermediate\"\n",
      "    },\n",
      "    {\n",
      "      \"skill\": \"Vendor Management\",\n",
      "      \"priority\": \"valuable\",\n",
      "      \"proficiency_level\": \"intermediate\"\n",
      "    }\n",
      "  ],\n",
      "  \"technologies\": [\n",
      "    {\n",
      "      \"technology\": \"Advanced Excel\",\n",
      "      \"priority\": \"essential\",\n",
      "      \"version\": null\n",
      "    },\n",
      "    {\n",
      "      \"technology\": \"ERP systems\",\n",
      "      \"priority\": \"essential\",\n",
      "      \"version\": null\n",
      "    },\n",
      "    {\n",
      "      \"technology\": \"QuickBooks\",\n",
      "      \"priority\": \"essential\",\n",
      "      \"version\": null\n",
      "    },\n",
      "    {\n",
      "      \"technology\": \"MYOB\",\n",
      "      \"priority\": \"essential\",\n",
      "      \"version\": null\n",
      "    },\n",
      "    {\n",
      "      \"technology\": \"MS Office\",\n",
      "      \"priority\": \"essential\",\n",
      "      \"version\": null\n",
      "    },\n",
      "    {\n",
      "      \"technology\": \"MIS reporting tools\",\n",
      "      \"priority\": \"essential\",\n",
      "      \"version\": null\n",
      "    },\n",
      "    {\n",
      "      \"technology\": \"TensorFlow\",\n",
      "      \"priority\": \"important\",\n",
      "      \"version\": null\n",
      "    },\n",
      "    {\n",
      "      \"technology\": \"PyTorch\",\n",
      "      \"priority\": \"important\",\n",
      "      \"version\": null\n",
      "    },\n",
      "    {\n",
      "      \"technology\": \"Scikit-learn\",\n",
      "      \"priority\": \"important\",\n",
      "      \"version\": null\n",
      "    },\n",
      "    {\n",
      "      \"technology\": \"Python\",\n",
      "      \"priority\": \"important\",\n",
      "      \"version\": null\n",
      "    },\n",
      "    {\n",
      "      \"technology\": \"R\",\n",
      "      \"priority\": \"important\",\n",
      "      \"version\": null\n",
      "    },\n",
      "    {\n",
      "      \"technology\": \"Java\",\n",
      "      \"priority\": \"important\",\n",
      "      \"version\": null\n",
      "    }\n",
      "  ],\n",
      "  \"language_proficiency\": [\n",
      "    {\n",
      "      \"language\": \"English\",\n",
      "      \"level\": \"fluent\",\n",
      "      \"priority\": \"important\"\n",
      "    },\n",
      "    {\n",
      "      \"language\": \"Hindi\",\n",
      "      \"level\": \"fluent\",\n",
      "      \"priority\": \"important\"\n",
      "    }\n",
      "  ],\n",
      "  \"qualifications\": {\n",
      "    \"education\": [\n",
      "      {\n",
      "        \"degree\": \"Master's degree in Commerce\",\n",
      "        \"field\": \"Commerce\",\n",
      "        \"priority\": \"essential\"\n",
      "      },\n",
      "      {\n",
      "        \"degree\": \"Bachelor's degree in Commerce\",\n",
      "        \"field\": \"Commerce\",\n",
      "        \"priority\": \"essential\"\n",
      "      }\n",
      "    ],\n",
      "    \"certifications\": null\n",
      "  },\n",
      "  \"experience\": {\n",
      "    \"level\": \"mid\",\n",
      "    \"years_total\": null,\n",
      "    \"years_relevant\": {\n",
      "      \"min\": 3,\n",
      "      \"max\": null\n",
      "    },\n",
      "    \"industry_experience\": [\n",
      "      {\n",
      "        \"industry\": \"Accounting\",\n",
      "        \"priority\": \"essential\"\n",
      "      },\n",
      "      {\n",
      "        \"industry\": \"Bookkeeping\",\n",
      "        \"priority\": \"essential\"\n",
      "      },\n",
      "      {\n",
      "        \"industry\": \"Financial Analysis\",\n",
      "        \"priority\": \"essential\"\n",
      "      }\n",
      "    ],\n",
      "    \"leadership\": {\n",
      "      \"required\": false,\n",
      "      \"team_size\": null,\n",
      "      \"priority\": \"valuable\"\n",
      "    }\n",
      "  },\n",
      "  \"location\": {\n",
      "    \"cities\": null,\n",
      "    \"countries\": null,\n",
      "    \"remote_options\": \"hybrid\",\n",
      "    \"travel_requirements\": null,\n",
      "    \"relocation\": null\n",
      "  },\n",
      "  \"employment_details\": {\n",
      "    \"type\": \"full_time\",\n",
      "    \"urgency\": null,\n",
      "    \"salary_range\": null,\n",
      "    \"benefits\": [\n",
      "      \"Competitive compensation package\",\n",
      "      \"Performance-based incentives\",\n",
      "      \"Comprehensive training in machine learning and AI applications\",\n",
      "      \"Career advancement opportunities\"\n",
      "    ]\n",
      "  },\n",
      "  \"soft_skills\": [\n",
      "    {\n",
      "      \"skill\": \"Analytical Skills\",\n",
      "      \"priority\": \"essential\",\n",
      "      \"context\": \"Analyze complex financial data and identify meaningful patterns\"\n",
      "    },\n",
      "    {\n",
      "      \"skill\": \"Problem-Solving\",\n",
      "      \"priority\": \"essential\",\n",
      "      \"context\": \"Innovative approach to automating traditional financial processes\"\n",
      "    },\n",
      "    {\n",
      "      \"skill\": \"Communication\",\n",
      "      \"priority\": \"essential\",\n",
      "      \"context\": \"Excellent written and verbal communication skills for cross-functional collaboration\"\n",
      "    },\n",
      "    {\n",
      "      \"skill\": \"Team Collaboration\",\n",
      "      \"priority\": \"essential\",\n",
      "      \"context\": \"Proven ability to work effectively with diverse teams\"\n",
      "    },\n",
      "    {\n",
      "      \"skill\": \"Detail-Oriented\",\n",
      "      \"priority\": \"essential\",\n",
      "      \"context\": \"High accuracy in financial data processing and model development\"\n",
      "    },\n",
      "    {\n",
      "      \"skill\": \"Adaptability\",\n",
      "      \"priority\": \"essential\",\n",
      "      \"context\": \"Willingness to learn new AI technologies and apply them to financial use cases\"\n",
      "    }\n",
      "  ],\n",
      "  \"project_context\": {\n",
      "    \"types\": [\n",
      "      \"AI Model Development\",\n",
      "      \"Financial Process Automation\",\n",
      "      \"Business Intelligence\"\n",
      "    ],\n",
      "    \"methodologies\": [\n",
      "      \"Machine Learning\",\n",
      "      \"Advanced Analytics\"\n",
      "    ],\n",
      "    \"environment\": null\n",
      "  },\n",
      "  \"team_context\": {\n",
      "    \"size\": null,\n",
      "    \"structure\": \"Cross-functional collaboration with finance, accounting, and technology teams\",\n",
      "    \"reporting_to\": null\n",
      "  },\n",
      "  \"compliance_legal\": {\n",
      "    \"visa_sponsorship\": null,\n",
      "    \"security_clearance\": null,\n",
      "    \"background_check\": null\n",
      "  },\n",
      "  \"cultural_fit\": {\n",
      "    \"company_values\": [\n",
      "      \"Inclusivity\",\n",
      "      \"Diverse perspectives and backgrounds\"\n",
      "    ],\n",
      "    \"work_style\": [\n",
      "      \"Collaborative\",\n",
      "      \"Continuous learning\"\n",
      "    ]\n",
      "  },\n",
      "  \"growth_opportunities\": [\n",
      "    \"Opportunity to be at the forefront of AI innovation in financial services\",\n",
      "    \"Comprehensive training in machine learning and AI applications\",\n",
      "    \"Career advancement opportunities in the rapidly growing FinTech sector\"\n",
      "  ]\n",
      "}\n"
     ]
    }
   ],
   "source": [
    "from google import genai\n",
    "from google.genai import types\n",
    "from dotenv import load_dotenv\n",
    "from prompts.jd_extraction import system_prompt, user_prompt\n",
    "from models.data_models import JobRoleSchema\n",
    "\n",
    "load_dotenv('./.env')\n",
    "\n",
    "genai_client = genai.Client()\n",
    "\n",
    "def process_jd(jd: str):\n",
    "    if not jd.strip():\n",
    "        raise ValueError(\"No Job description provided\")\n",
    "\n",
    "    try:\n",
    "        response = genai_client.models.generate_content(\n",
    "            model=\"gemini-2.5-pro\",\n",
    "            contents=user_prompt.format(**{\"job_desc\": jd}),\n",
    "            config=types.GenerateContentConfig(\n",
    "                temperature=0.2,\n",
    "                system_instruction=system_prompt,\n",
    "                response_mime_type=\"application/json\",\n",
    "                response_schema=JobRoleSchema,\n",
    "            )\n",
    "        )\n",
    "        if response and response.text:\n",
    "            output = JobRoleSchema.model_validate_json(response.text)\n",
    "            return output\n",
    "        else:\n",
    "            raise ValueError(\"response.text is empty\")\n",
    "    except:\n",
    "        raise\n",
    "\n",
    "\n",
    "def load_sample_jd():\n",
    "    job_desc = \"\"\n",
    "    with open('./jd/sample_jd_01.txt', 'r') as file:\n",
    "        job_desc = file.read()\n",
    "\n",
    "    return job_desc\n",
    "\n",
    "sample_jd = load_sample_jd()\n",
    "\n",
    "processed_jd = process_jd(job_description_input if job_description_input else sample_jd)\n",
    "\n",
    "print(processed_jd.model_dump_json(indent=2, exclude_unset=True, exclude_none=False))"
   ]
  },
  {
   "cell_type": "markdown",
   "id": "9e84f452",
   "metadata": {},
   "source": [
    "## filter and score candidates"
   ]
  },
  {
   "cell_type": "markdown",
   "id": "4448939c",
   "metadata": {},
   "source": [
    "### filter candidates by job title"
   ]
  },
  {
   "cell_type": "code",
   "execution_count": 7,
   "id": "8901f0fc",
   "metadata": {},
   "outputs": [
    {
     "name": "stdout",
     "output_type": "stream",
     "text": [
      "filtered candidates: 1363\n",
      "\n",
      "     candidate_id                                  job_position_name  \\\n",
      "0            C001                           Senior Software Engineer   \n",
      "1            C002                     Machine Learning (ML) Engineer   \n",
      "2            C003  Executive/ Senior Executive- Trade Marketing, ...   \n",
      "3            C004                     Business Development Executive   \n",
      "4            C005                                Senior iOS Engineer   \n",
      "...           ...                                                ...   \n",
      "9539        C9540                                      Data Engineer   \n",
      "9540        C9541                       Executive/ Sr. Executive -IT   \n",
      "9541        C9542                                    Executive - VAT   \n",
      "9542        C9543             Asst. Manager/ Manger (Administrative)   \n",
      "9543        C9544                                     Civil Engineer   \n",
      "\n",
      "      title_score  \n",
      "0        0.272727  \n",
      "1        0.416667  \n",
      "2        0.289855  \n",
      "3        0.280000  \n",
      "4        0.307692  \n",
      "...           ...  \n",
      "9539     0.303030  \n",
      "9540     0.228571  \n",
      "9541     0.242424  \n",
      "9542     0.370370  \n",
      "9543     0.294118  \n",
      "\n",
      "[9544 rows x 3 columns]\n"
     ]
    }
   ],
   "source": [
    "from core.matching import fuzzy_match\n",
    "from sentence_transformers import util\n",
    "\n",
    "\n",
    "def fuzzy_job_title_score(threshold=0.4):\n",
    "    role_scores = fuzzy_match(df['job_position_name'].tolist(), [processed_jd.role])\n",
    "    df['title_score'] = role_scores[:, 0] / 100\n",
    "    \n",
    "    return df[df['title_score'] >= threshold]\n",
    "\n",
    "\n",
    "def similarity_match(item1: str, item2: str):\n",
    "    item1_embedding = model.encode(item1, convert_to_tensor=True)\n",
    "    item2_embedding = model.encode(item2, convert_to_tensor=True)\n",
    "\n",
    "    return util.cos_sim(item1_embedding, item2_embedding).item()\n",
    "\n",
    "def similarity_job_title_score(threshold=0.6):\n",
    "    df['title_score'] = df.apply(lambda x: similarity_match(x['job_position_name'], processed_jd.role), axis=1)\n",
    "    \n",
    "    return df[df['title_score'] >= threshold]\n",
    "\n",
    "\n",
    "df_filtered = fuzzy_job_title_score() \n",
    "# df_filtered = similarity_job_title_score() # improve filter by switching to semantic similarity (takes too long!!)\n",
    "\n",
    "print(f\"filtered candidates: {len(df_filtered)}\")\n",
    "print(\"\")\n",
    "print(df[['candidate_id', 'job_position_name', 'title_score']])"
   ]
  },
  {
   "cell_type": "markdown",
   "id": "1ae28466",
   "metadata": {},
   "source": [
    "### score candidates by skills"
   ]
  },
  {
   "cell_type": "code",
   "execution_count": 8,
   "id": "fab89cdb",
   "metadata": {},
   "outputs": [
    {
     "name": "stdout",
     "output_type": "stream",
     "text": [
      "[Skill(skill='Accounting', priority=<ImportanceLevel.ESSENTIAL: 'essential'>, proficiency_level='advanced'), Skill(skill='Bookkeeping', priority=<ImportanceLevel.ESSENTIAL: 'essential'>, proficiency_level='advanced'), Skill(skill='Financial Analysis', priority=<ImportanceLevel.ESSENTIAL: 'essential'>, proficiency_level='advanced'), Skill(skill='Data Entry', priority=<ImportanceLevel.ESSENTIAL: 'essential'>, proficiency_level='advanced'), Skill(skill='General ledger management', priority=<ImportanceLevel.ESSENTIAL: 'essential'>, proficiency_level='advanced'), Skill(skill='Accounts Payable/Receivable', priority=<ImportanceLevel.ESSENTIAL: 'essential'>, proficiency_level='advanced'), Skill(skill='Bank Reconciliation', priority=<ImportanceLevel.ESSENTIAL: 'essential'>, proficiency_level='advanced'), Skill(skill='Financial Data Analysis', priority=<ImportanceLevel.IMPORTANT: 'important'>, proficiency_level='intermediate'), Skill(skill='Sales Analysis', priority=<ImportanceLevel.IMPORTANT: 'important'>, proficiency_level='intermediate'), Skill(skill='Cash Management', priority=<ImportanceLevel.IMPORTANT: 'important'>, proficiency_level='intermediate'), Skill(skill='Fixed Assets Accounting', priority=<ImportanceLevel.IMPORTANT: 'important'>, proficiency_level='intermediate'), Skill(skill='Accrual Accounting', priority=<ImportanceLevel.IMPORTANT: 'important'>, proficiency_level='intermediate'), Skill(skill='Financial Statement Preparation', priority=<ImportanceLevel.IMPORTANT: 'important'>, proficiency_level='intermediate'), Skill(skill='Purchasing Processes', priority=<ImportanceLevel.VALUABLE: 'valuable'>, proficiency_level='intermediate'), Skill(skill='Vendor Management', priority=<ImportanceLevel.VALUABLE: 'valuable'>, proficiency_level='intermediate'), Skill(skill='Advanced Excel', priority=<ImportanceLevel.ESSENTIAL: 'essential'>, proficiency_level=None), Skill(skill='ERP systems', priority=<ImportanceLevel.ESSENTIAL: 'essential'>, proficiency_level=None), Skill(skill='QuickBooks', priority=<ImportanceLevel.ESSENTIAL: 'essential'>, proficiency_level=None), Skill(skill='MYOB', priority=<ImportanceLevel.ESSENTIAL: 'essential'>, proficiency_level=None), Skill(skill='MS Office', priority=<ImportanceLevel.ESSENTIAL: 'essential'>, proficiency_level=None), Skill(skill='MIS reporting tools', priority=<ImportanceLevel.ESSENTIAL: 'essential'>, proficiency_level=None), Skill(skill='TensorFlow', priority=<ImportanceLevel.IMPORTANT: 'important'>, proficiency_level=None), Skill(skill='PyTorch', priority=<ImportanceLevel.IMPORTANT: 'important'>, proficiency_level=None), Skill(skill='Scikit-learn', priority=<ImportanceLevel.IMPORTANT: 'important'>, proficiency_level=None), Skill(skill='Python', priority=<ImportanceLevel.IMPORTANT: 'important'>, proficiency_level=None), Skill(skill='R', priority=<ImportanceLevel.IMPORTANT: 'important'>, proficiency_level=None), Skill(skill='Java', priority=<ImportanceLevel.IMPORTANT: 'important'>, proficiency_level=None)]\n",
      "     candidate_id                job_position_name  skill_score\n",
      "1            C002   Machine Learning (ML) Engineer     0.094595\n",
      "8            C009              Mechanical Engineer     0.031532\n",
      "10           C011              Mechanical Designer     0.139640\n",
      "12           C013   Machine Learning (ML) Engineer     0.445946\n",
      "13           C014              Mechanical Designer     0.427928\n",
      "...           ...                              ...          ...\n",
      "9503        C9504  Management Trainee - Mechanical          NaN\n",
      "9506        C9507  Management Trainee - Mechanical          NaN\n",
      "9519        C9520              Mechanical Designer          NaN\n",
      "9528        C9529   Machine Learning (ML) Engineer          NaN\n",
      "9536        C9537              Mechanical Designer          NaN\n",
      "\n",
      "[1363 rows x 3 columns]\n"
     ]
    },
    {
     "name": "stderr",
     "output_type": "stream",
     "text": [
      "/var/folders/db/n3nvs4md1f32283024ywd0jr0000gn/T/ipykernel_47782/2613911878.py:33: SettingWithCopyWarning: \n",
      "A value is trying to be set on a copy of a slice from a DataFrame.\n",
      "Try using .loc[row_indexer,col_indexer] = value instead\n",
      "\n",
      "See the caveats in the documentation: https://pandas.pydata.org/pandas-docs/stable/user_guide/indexing.html#returning-a-view-versus-a-copy\n",
      "  df['skill_score'] = skill_results_df['score']\n",
      "/var/folders/db/n3nvs4md1f32283024ywd0jr0000gn/T/ipykernel_47782/2613911878.py:34: SettingWithCopyWarning: \n",
      "A value is trying to be set on a copy of a slice from a DataFrame.\n",
      "Try using .loc[row_indexer,col_indexer] = value instead\n",
      "\n",
      "See the caveats in the documentation: https://pandas.pydata.org/pandas-docs/stable/user_guide/indexing.html#returning-a-view-versus-a-copy\n",
      "  df['matched_skills'] = skill_results_df['matched_skills']\n"
     ]
    }
   ],
   "source": [
    "import pandas as pd\n",
    "from core.matching import weighted_fuzzy_skill_score\n",
    "from models.data_models import Skill\n",
    "\n",
    "if not processed_jd:\n",
    "    raise ValueError('JD is corrupted or not processed')\n",
    "\n",
    "if len(df_filtered) == 0:\n",
    "    raise ValueError('No candidates found')\n",
    "\n",
    "def calculate_skill_score(df: pd.DataFrame, filter = False):\n",
    "    jd_skills = processed_jd.skills\n",
    "\n",
    "    if processed_jd.technologies:\n",
    "        for t in processed_jd.technologies:\n",
    "            jd_skills.append(\n",
    "                Skill(\n",
    "                    skill=t.technology,\n",
    "                    priority=t.priority,\n",
    "                    proficiency_level=None\n",
    "                )\n",
    "            )\n",
    "\n",
    "    print(jd_skills)\n",
    "\n",
    "    # df_filtered['skill_score'] = df_filtered.apply(lambda x: weighted_fuzzy_skill_score(x['candidate_id'], jd_skills, x['all_skills']), axis=1)\n",
    "    skill_results = df.apply(\n",
    "        lambda x: weighted_fuzzy_skill_score(x['candidate_id'], jd_skills, x['all_skills']),\n",
    "        axis=1\n",
    "    )\n",
    "\n",
    "    skill_results_df = pd.json_normalize(skill_results.tolist())\n",
    "    df['skill_score'] = skill_results_df['score']\n",
    "    df['matched_skills'] = skill_results_df['matched_skills']\n",
    "\n",
    "    # filter by skill\n",
    "    if filter:\n",
    "        SKILL_SCORE_THRESHOLD = 0.25\n",
    "        df = df[df['skill_score'] >= SKILL_SCORE_THRESHOLD]\n",
    "        print(f\"filtered candidates: {len(df)}\")\n",
    "\n",
    "    print(df[['candidate_id', 'job_position_name', 'skill_score']])\n",
    "\n",
    "    return df\n",
    "\n",
    "\n",
    "\n",
    "df_filtered = calculate_skill_score(df_filtered)\n",
    "\n",
    "# pd.set_option('display.max_rows', None)\n",
    "# pd.set_option('display.max_columns', None)\n",
    "# pd.set_option('display.width', 1000)\n",
    "# pd.set_option('display.max_colwidth', None)\n",
    "# df_filtered"
   ]
  },
  {
   "cell_type": "markdown",
   "id": "3203b0a7",
   "metadata": {},
   "source": [
    "### score candidates by qualifications"
   ]
  },
  {
   "cell_type": "code",
   "execution_count": 9,
   "id": "d6417ba0",
   "metadata": {},
   "outputs": [
    {
     "name": "stdout",
     "output_type": "stream",
     "text": [
      "     candidate_id                job_position_name  qualification_score\n",
      "1            C002   Machine Learning (ML) Engineer                  0.0\n",
      "8            C009              Mechanical Engineer                  0.0\n",
      "10           C011              Mechanical Designer                  0.0\n",
      "12           C013   Machine Learning (ML) Engineer                  0.0\n",
      "13           C014              Mechanical Designer                  0.0\n",
      "...           ...                              ...                  ...\n",
      "9503        C9504  Management Trainee - Mechanical                  NaN\n",
      "9506        C9507  Management Trainee - Mechanical                  NaN\n",
      "9519        C9520              Mechanical Designer                  NaN\n",
      "9528        C9529   Machine Learning (ML) Engineer                  NaN\n",
      "9536        C9537              Mechanical Designer                  NaN\n",
      "\n",
      "[1363 rows x 3 columns]\n"
     ]
    },
    {
     "name": "stderr",
     "output_type": "stream",
     "text": [
      "/var/folders/db/n3nvs4md1f32283024ywd0jr0000gn/T/ipykernel_47782/1579389607.py:13: SettingWithCopyWarning: \n",
      "A value is trying to be set on a copy of a slice from a DataFrame.\n",
      "Try using .loc[row_indexer,col_indexer] = value instead\n",
      "\n",
      "See the caveats in the documentation: https://pandas.pydata.org/pandas-docs/stable/user_guide/indexing.html#returning-a-view-versus-a-copy\n",
      "  df['qualification_score'] = qualification_results_df['score']\n",
      "/var/folders/db/n3nvs4md1f32283024ywd0jr0000gn/T/ipykernel_47782/1579389607.py:14: SettingWithCopyWarning: \n",
      "A value is trying to be set on a copy of a slice from a DataFrame.\n",
      "Try using .loc[row_indexer,col_indexer] = value instead\n",
      "\n",
      "See the caveats in the documentation: https://pandas.pydata.org/pandas-docs/stable/user_guide/indexing.html#returning-a-view-versus-a-copy\n",
      "  df['matched_qualifications'] = qualification_results_df['matched_qualifications']\n"
     ]
    }
   ],
   "source": [
    "from core.matching import weighted_fuzzy_qualification_score\n",
    "\n",
    "def calculate_qualification_score(df: pd.DataFrame, filter = False):\n",
    "    if processed_jd and processed_jd.qualifications and processed_jd.qualifications.education:\n",
    "        qualification_results = df.apply(\n",
    "            lambda x: weighted_fuzzy_qualification_score(\n",
    "                x['candidate_id'], \n",
    "                processed_jd.qualifications.education, # type: ignore\n",
    "                { \"degrees\": x['degree_names_norm'],  \"fields\": x['major_field_of_studies']} \n",
    "            ), axis=1)\n",
    "        \n",
    "        qualification_results_df = pd.DataFrame(qualification_results.tolist())\n",
    "        df['qualification_score'] = qualification_results_df['score']\n",
    "        df['matched_qualifications'] = qualification_results_df['matched_qualifications']\n",
    "        \n",
    "        # filter by qualification\n",
    "        if filter: \n",
    "            QUALIFICATION_SCORE_THRESHOLD = 0.2\n",
    "            df = df[df['qualification_score'] >= QUALIFICATION_SCORE_THRESHOLD]\n",
    "            print(f\"filtered candidates: {len(df)}\")\n",
    "\n",
    "        print(df[['candidate_id', 'job_position_name', 'qualification_score']])\n",
    "    else:\n",
    "        df['qualification_score'] = 0.0\n",
    "        df['matched_qualifications'] = None\n",
    "    return df\n",
    "\n",
    "\n",
    "df_filtered = calculate_qualification_score(df_filtered)"
   ]
  },
  {
   "cell_type": "markdown",
   "id": "d09de0cd",
   "metadata": {},
   "source": [
    "### calculate similarity score"
   ]
  },
  {
   "cell_type": "code",
   "execution_count": 10,
   "id": "16264d27",
   "metadata": {},
   "outputs": [
    {
     "name": "stderr",
     "output_type": "stream",
     "text": [
      "/var/folders/db/n3nvs4md1f32283024ywd0jr0000gn/T/ipykernel_47782/1364482581.py:12: SettingWithCopyWarning: \n",
      "A value is trying to be set on a copy of a slice from a DataFrame.\n",
      "Try using .loc[row_indexer,col_indexer] = value instead\n",
      "\n",
      "See the caveats in the documentation: https://pandas.pydata.org/pandas-docs/stable/user_guide/indexing.html#returning-a-view-versus-a-copy\n",
      "  df_filtered['similarity_score'] = similarities\n"
     ]
    },
    {
     "data": {
      "text/html": [
       "<div>\n",
       "<style scoped>\n",
       "    .dataframe tbody tr th:only-of-type {\n",
       "        vertical-align: middle;\n",
       "    }\n",
       "\n",
       "    .dataframe tbody tr th {\n",
       "        vertical-align: top;\n",
       "    }\n",
       "\n",
       "    .dataframe thead th {\n",
       "        text-align: right;\n",
       "    }\n",
       "</style>\n",
       "<table border=\"1\" class=\"dataframe\">\n",
       "  <thead>\n",
       "    <tr style=\"text-align: right;\">\n",
       "      <th></th>\n",
       "      <th>candidate_id</th>\n",
       "      <th>similarity_score</th>\n",
       "    </tr>\n",
       "  </thead>\n",
       "  <tbody>\n",
       "    <tr>\n",
       "      <th>1</th>\n",
       "      <td>C002</td>\n",
       "      <td>0.516673</td>\n",
       "    </tr>\n",
       "    <tr>\n",
       "      <th>8</th>\n",
       "      <td>C009</td>\n",
       "      <td>0.305730</td>\n",
       "    </tr>\n",
       "    <tr>\n",
       "      <th>10</th>\n",
       "      <td>C011</td>\n",
       "      <td>0.346323</td>\n",
       "    </tr>\n",
       "    <tr>\n",
       "      <th>12</th>\n",
       "      <td>C013</td>\n",
       "      <td>0.516673</td>\n",
       "    </tr>\n",
       "    <tr>\n",
       "      <th>13</th>\n",
       "      <td>C014</td>\n",
       "      <td>0.346323</td>\n",
       "    </tr>\n",
       "    <tr>\n",
       "      <th>...</th>\n",
       "      <td>...</td>\n",
       "      <td>...</td>\n",
       "    </tr>\n",
       "    <tr>\n",
       "      <th>9503</th>\n",
       "      <td>C9504</td>\n",
       "      <td>0.363010</td>\n",
       "    </tr>\n",
       "    <tr>\n",
       "      <th>9506</th>\n",
       "      <td>C9507</td>\n",
       "      <td>0.363010</td>\n",
       "    </tr>\n",
       "    <tr>\n",
       "      <th>9519</th>\n",
       "      <td>C9520</td>\n",
       "      <td>0.346323</td>\n",
       "    </tr>\n",
       "    <tr>\n",
       "      <th>9528</th>\n",
       "      <td>C9529</td>\n",
       "      <td>0.516673</td>\n",
       "    </tr>\n",
       "    <tr>\n",
       "      <th>9536</th>\n",
       "      <td>C9537</td>\n",
       "      <td>0.346323</td>\n",
       "    </tr>\n",
       "  </tbody>\n",
       "</table>\n",
       "<p>1363 rows × 2 columns</p>\n",
       "</div>"
      ],
      "text/plain": [
       "     candidate_id  similarity_score\n",
       "1            C002          0.516673\n",
       "8            C009          0.305730\n",
       "10           C011          0.346323\n",
       "12           C013          0.516673\n",
       "13           C014          0.346323\n",
       "...           ...               ...\n",
       "9503        C9504          0.363010\n",
       "9506        C9507          0.363010\n",
       "9519        C9520          0.346323\n",
       "9528        C9529          0.516673\n",
       "9536        C9537          0.346323\n",
       "\n",
       "[1363 rows x 2 columns]"
      ]
     },
     "execution_count": 10,
     "metadata": {},
     "output_type": "execute_result"
    }
   ],
   "source": [
    "import torch\n",
    "from sentence_transformers.util import cos_sim\n",
    "from core.embedding import build_jd_embedding_input\n",
    "\n",
    "jd_text = build_jd_embedding_input(processed_jd)\n",
    "jd_embedding = model.encode(jd_text, convert_to_tensor=True).cpu()\n",
    "\n",
    "candidate_embeddings = torch.stack([torch.tensor(vec) for vec in df_filtered['profile_embedding']])\n",
    "\n",
    "similarities = cos_sim(candidate_embeddings, jd_embedding).squeeze().cpu().numpy()\n",
    "\n",
    "df_filtered['similarity_score'] = similarities\n",
    "\n",
    "df_filtered[['candidate_id', 'similarity_score']]"
   ]
  },
  {
   "cell_type": "markdown",
   "id": "940f8c19",
   "metadata": {},
   "source": [
    "## calculate total score and filter"
   ]
  },
  {
   "cell_type": "code",
   "execution_count": 25,
   "id": "154343d4",
   "metadata": {},
   "outputs": [
    {
     "name": "stderr",
     "output_type": "stream",
     "text": [
      "/var/folders/db/n3nvs4md1f32283024ywd0jr0000gn/T/ipykernel_47782/2234328206.py:11: SettingWithCopyWarning: \n",
      "A value is trying to be set on a copy of a slice from a DataFrame.\n",
      "Try using .loc[row_indexer,col_indexer] = value instead\n",
      "\n",
      "See the caveats in the documentation: https://pandas.pydata.org/pandas-docs/stable/user_guide/indexing.html#returning-a-view-versus-a-copy\n",
      "  df_filtered['total_score'] = total_score\n"
     ]
    },
    {
     "data": {
      "text/html": [
       "<div>\n",
       "<style scoped>\n",
       "    .dataframe tbody tr th:only-of-type {\n",
       "        vertical-align: middle;\n",
       "    }\n",
       "\n",
       "    .dataframe tbody tr th {\n",
       "        vertical-align: top;\n",
       "    }\n",
       "\n",
       "    .dataframe thead th {\n",
       "        text-align: right;\n",
       "    }\n",
       "</style>\n",
       "<table border=\"1\" class=\"dataframe\">\n",
       "  <thead>\n",
       "    <tr style=\"text-align: right;\">\n",
       "      <th></th>\n",
       "      <th>candidate_id</th>\n",
       "      <th>job_position_name</th>\n",
       "      <th>total_score</th>\n",
       "      <th>title_score</th>\n",
       "      <th>skill_score</th>\n",
       "      <th>matched_skills</th>\n",
       "      <th>qualification_score</th>\n",
       "      <th>matched_qualifications</th>\n",
       "      <th>similarity_score</th>\n",
       "    </tr>\n",
       "  </thead>\n",
       "  <tbody>\n",
       "    <tr>\n",
       "      <th>476</th>\n",
       "      <td>C477</td>\n",
       "      <td>Machine Learning (ML) Engineer</td>\n",
       "      <td>0.539372</td>\n",
       "      <td>0.416667</td>\n",
       "      <td>0.810811</td>\n",
       "      <td>[QuickBooks, Cash Management, Financial, MIS, ...</td>\n",
       "      <td>0.0</td>\n",
       "      <td>[]</td>\n",
       "      <td>0.516673</td>\n",
       "    </tr>\n",
       "    <tr>\n",
       "      <th>76</th>\n",
       "      <td>C077</td>\n",
       "      <td>Machine Learning (ML) Engineer</td>\n",
       "      <td>0.483066</td>\n",
       "      <td>0.416667</td>\n",
       "      <td>0.585586</td>\n",
       "      <td>[Tax accounting, tax management, Financial, da...</td>\n",
       "      <td>0.0</td>\n",
       "      <td>[]</td>\n",
       "      <td>0.516673</td>\n",
       "    </tr>\n",
       "    <tr>\n",
       "      <th>562</th>\n",
       "      <td>C563</td>\n",
       "      <td>Machine Learning (ML) Engineer</td>\n",
       "      <td>0.481940</td>\n",
       "      <td>0.416667</td>\n",
       "      <td>0.581081</td>\n",
       "      <td>[Advanced bookkeeping skills, fixed assets, Fi...</td>\n",
       "      <td>0.0</td>\n",
       "      <td>[]</td>\n",
       "      <td>0.516673</td>\n",
       "    </tr>\n",
       "  </tbody>\n",
       "</table>\n",
       "</div>"
      ],
      "text/plain": [
       "    candidate_id               job_position_name  total_score  title_score  \\\n",
       "476         C477  Machine Learning (ML) Engineer     0.539372     0.416667   \n",
       "76          C077  Machine Learning (ML) Engineer     0.483066     0.416667   \n",
       "562         C563  Machine Learning (ML) Engineer     0.481940     0.416667   \n",
       "\n",
       "     skill_score                                     matched_skills  \\\n",
       "476     0.810811  [QuickBooks, Cash Management, Financial, MIS, ...   \n",
       "76      0.585586  [Tax accounting, tax management, Financial, da...   \n",
       "562     0.581081  [Advanced bookkeeping skills, fixed assets, Fi...   \n",
       "\n",
       "     qualification_score matched_qualifications  similarity_score  \n",
       "476                  0.0                     []          0.516673  \n",
       "76                   0.0                     []          0.516673  \n",
       "562                  0.0                     []          0.516673  "
      ]
     },
     "execution_count": 25,
     "metadata": {},
     "output_type": "execute_result"
    }
   ],
   "source": [
    "from models.mappings import candidate_score_weights\n",
    "\n",
    "# Compute the weighted total score\n",
    "total_score = (\n",
    "    candidate_score_weights['title_score'] * df_filtered['title_score'] +\n",
    "    candidate_score_weights['skill_score'] * df_filtered['skill_score'] +\n",
    "    candidate_score_weights['similarity_score'] * df_filtered['similarity_score']\n",
    ")\n",
    "if processed_jd.qualifications and processed_jd.qualifications.education:\n",
    "    total_score += candidate_score_weights['qualification_score'] * df_filtered['qualification_score']\n",
    "df_filtered['total_score'] = total_score\n",
    "\n",
    "top_candidates = df_filtered.sort_values(by='total_score', ascending=False).head(3)\n",
    "\n",
    "# df_filtered['match_explanation'] = df_filtered.apply(lambda row: f\"Title: {row.title_score:.2f}, Skills: {row.skill_score:.2f}, Qual: {row.qualification_score:.2f}, Sem: {row.similarity_score:.2f}\", axis=1)\n",
    "# df_filtered['match_explanation']\n",
    "\n",
    "cols_to_display = ['candidate_id', 'job_position_name', 'total_score', 'title_score', 'skill_score', 'matched_skills', 'qualification_score', 'matched_qualifications', 'similarity_score']\n",
    "top_candidates[cols_to_display]\n"
   ]
  },
  {
   "cell_type": "markdown",
   "id": "91153c45",
   "metadata": {},
   "source": [
    "## draft emails to the selected candidates"
   ]
  },
  {
   "cell_type": "code",
   "execution_count": 18,
   "id": "1e4bbb5c",
   "metadata": {},
   "outputs": [
    {
     "data": {
      "text/markdown": [
       "### Candidate 0"
      ],
      "text/plain": [
       "<IPython.core.display.Markdown object>"
      ]
     },
     "metadata": {},
     "output_type": "display_data"
    },
    {
     "data": {
      "text/markdown": [
       "Here's a personalized recruitment email for the candidate:\n",
       "\n",
       "---\n",
       "\n",
       "**Subject Line:** Exploring Your Fit for a Financial AI Analyst Role at [Company Name]\n",
       "\n",
       "**Email Body:**\n",
       "\n",
       "Dear [Candidate Name],\n",
       "\n",
       "I came across your profile as a Machine Learning Engineer and was particularly impressed by your extensive experience in ML system design and model training. Your background immediately stood out as a strong match for our Financial AI Analyst position at [Company Name].\n",
       "\n",
       "Our Financial AI Analyst role is designed for someone who can bridge the gap between deep financial understanding and cutting-edge AI capabilities. Your expertise in areas like **'ML System Design'**, **'Model Training'**, and **'Statistical Analysis'** aligns perfectly with our need to develop sophisticated AI models for financial forecasting, fraud detection, and process automation.\n",
       "\n",
       "What makes your profile particularly compelling is the combination of your machine learning prowess with your practical financial skills. Your proficiency with financial software such as **QuickBooks**, **MYOB**, and **ERP systems**, alongside your experience in **'Cash Management'**, **'Accounts Payable'**, and **'General Ledger'** operations, demonstrates a strong grasp of the financial processes we aim to revolutionize with AI.\n",
       "\n",
       "This unique hybrid role offers you the exciting opportunity to apply your advanced machine learning skills directly to real-world financial challenges, transforming traditional processes and contributing to innovative solutions in the FinTech space. It's an ideal next step for an ML professional looking to make a significant impact in financial technology.\n",
       "\n",
       "Would you be open to a brief 15-minute call next week to discuss this opportunity in more detail and explore how your expertise could contribute to our team? Please let me know your availability or if you'd prefer to connect at another time.\n",
       "\n",
       "Best regards,\n",
       "\n",
       "[Your Name]\n",
       "[Your Title]\n",
       "[Company Name]\n",
       "[Your Contact Information]"
      ],
      "text/plain": [
       "<IPython.core.display.Markdown object>"
      ]
     },
     "metadata": {},
     "output_type": "display_data"
    },
    {
     "data": {
      "text/markdown": [
       "### Candidate 1"
      ],
      "text/plain": [
       "<IPython.core.display.Markdown object>"
      ]
     },
     "metadata": {},
     "output_type": "display_data"
    },
    {
     "data": {
      "text/markdown": [
       "Here's a personalized recruitment email draft:\n",
       "\n",
       "**Subject Line:** Exploring a Financial AI Analyst Opportunity at [Company Name] for an ML Engineer\n",
       "\n",
       "**Email Body:**\n",
       "\n",
       "Dear [Candidate Name],\n",
       "\n",
       "Your profile as a Machine Learning (ML) Engineer, combined with your strong background in financial processes, immediately stood out to me. At [Company Name], we are at the forefront of transforming financial services with AI, and your unique blend of expertise aligns perfectly with our vision.\n",
       "\n",
       "We are currently seeking a **Financial AI Analyst**, a role designed for professionals who can bridge the gap between deep financial understanding and advanced AI capabilities. Your experience as an ML Engineer, particularly in areas like model development and statistical analysis, is precisely what we need for designing and implementing AI models for financial forecasting and fraud detection.\n",
       "\n",
       "Furthermore, your listed skills in **\"Financial,\" \"Accounting,\" \"data entry,\" \"processes,\"** and **\"Excel\"** demonstrate a solid foundation in the core financial operations that our AI solutions aim to automate. This practical financial acumen, coupled with your ML expertise, makes you an ideal candidate to develop intelligent systems for financial reporting, automate accounting processes, and extract valuable insights from large financial datasets.\n",
       "\n",
       "This role offers a compelling opportunity to apply your machine learning skills directly to real-world financial challenges, contributing to innovative solutions in a rapidly growing FinTech environment.\n",
       "\n",
       "Would you be open to a brief 15-20 minute call next week to discuss this exciting opportunity and how your background could be a great fit for our team?\n",
       "\n",
       "Best regards,\n",
       "\n",
       "[Your Name]\n",
       "[Your Title]\n",
       "[Company Name]\n",
       "[Your Contact Information]"
      ],
      "text/plain": [
       "<IPython.core.display.Markdown object>"
      ]
     },
     "metadata": {},
     "output_type": "display_data"
    },
    {
     "data": {
      "text/markdown": [
       "### Candidate 2"
      ],
      "text/plain": [
       "<IPython.core.display.Markdown object>"
      ]
     },
     "metadata": {},
     "output_type": "display_data"
    },
    {
     "data": {
      "text/markdown": [
       "Here's a draft of the personalized recruitment email:\n",
       "\n",
       "---\n",
       "\n",
       "**Subject: Opportunity for a Financial AI Analyst at [Company Name] - Perfect for your ML & Accounting background**\n",
       "\n",
       "Dear [Candidate Name],\n",
       "\n",
       "I was incredibly impressed by your profile, particularly your experience as a Machine Learning Engineer, and how perfectly it aligns with a unique opportunity we have for a Financial AI Analyst at [Company Name].\n",
       "\n",
       "Our Financial AI Analyst role is designed for someone who can bridge the gap between deep financial understanding and cutting-edge AI development. Your background in **Machine Learning Leadership, ML System Design, and Model Training** directly addresses the AI development aspect, while your strong foundation in **advanced bookkeeping, general ledger management, accounts payable, and QuickBooks expertise** provides the crucial financial acumen we're looking for. Your experience with **fixed assets and sales analysis** further strengthens this unique blend.\n",
       "\n",
       "This position is ideal for someone like you who is passionate about leveraging AI to revolutionize traditional financial processes, from automating accounting operations to developing predictive models for financial forecasting and fraud detection. It's a chance to apply your ML expertise directly to real-world financial challenges within a leading FinTech company.\n",
       "\n",
       "I'd love to connect for a brief 15-20 minute call to discuss this exciting opportunity in more detail and answer any questions you might have. Would you be open to a chat sometime next week? Please let me know what time works best for you, or if you prefer, you can schedule directly via [Link to Calendly/Scheduler].\n",
       "\n",
       "Looking forward to hearing from you.\n",
       "\n",
       "Best regards,\n",
       "\n",
       "[Your Name]\n",
       "[Your Title]\n",
       "[Company Name]\n",
       "[Your Contact Information]\n",
       "\n",
       "---"
      ],
      "text/plain": [
       "<IPython.core.display.Markdown object>"
      ]
     },
     "metadata": {},
     "output_type": "display_data"
    },
    {
     "data": {
      "text/markdown": [
       "### Candidate 3"
      ],
      "text/plain": [
       "<IPython.core.display.Markdown object>"
      ]
     },
     "metadata": {},
     "output_type": "display_data"
    },
    {
     "data": {
      "text/markdown": [
       "Subject: Opportunity: Financial AI Analyst at [Company Name] - A Perfect Blend of Your ML & Financial Expertise\n",
       "\n",
       "Dear [Candidate Name],\n",
       "\n",
       "I hope this email finds you well.\n",
       "\n",
       "I came across your profile as a Machine Learning Engineer and was immediately impressed by your extensive experience in ML system design, algorithm research, and model training. What truly caught my attention, however, was the unique combination of these advanced technical skills with your strong background in **financial management, accounting, and general ledger operations**, alongside your proficiency as a **power user of financial software like QuickBooks and Excel**.\n",
       "\n",
       "This distinctive blend of expertise makes you an exceptional potential fit for our **Financial AI Analyst** role at [Company Name]. We are a leading FinTech company focused on transforming traditional financial processes with AI, and this position is designed for someone who can bridge the gap between deep financial understanding and cutting-edge machine learning.\n",
       "\n",
       "In this role, your experience in **ML system design and model training** would be invaluable for developing AI models for financial forecasting and automating complex accounting processes. Simultaneously, your background in **financial analysis, bookkeeping, and reporting** would ensure these solutions are precisely tailored to real-world financial needs, from automating accounts payable to generating intelligent financial reports.\n",
       "\n",
       "This is a fantastic opportunity to apply your advanced ML skills directly within the financial domain, revolutionizing how financial data is processed and analyzed.\n",
       "\n",
       "Would you be open to a brief 15-minute call next week to discuss this exciting opportunity further and explore how your unique background aligns with our vision? Please let me know your availability or if you prefer to schedule a time that works best for you.\n",
       "\n",
       "Looking forward to connecting.\n",
       "\n",
       "Best regards,\n",
       "\n",
       "[Your Name]\n",
       "[Your Title]\n",
       "[Company Name]\n",
       "[Your Contact Information]\n",
       "[Company Website (Optional)]"
      ],
      "text/plain": [
       "<IPython.core.display.Markdown object>"
      ]
     },
     "metadata": {},
     "output_type": "display_data"
    },
    {
     "data": {
      "text/markdown": [
       "### Candidate 4"
      ],
      "text/plain": [
       "<IPython.core.display.Markdown object>"
      ]
     },
     "metadata": {},
     "output_type": "display_data"
    },
    {
     "data": {
      "text/markdown": [
       "Subject: Exploring Your Expertise: Financial AI Analyst Opportunity at [Company Name]\n",
       "\n",
       "Dear [Candidate Name],\n",
       "\n",
       "I came across your profile and was particularly impressed by your extensive experience as a Machine Learning Engineer, especially your background in ML System Design and Model Training. Given your unique blend of technical and financial skills, I believe you could be an exceptional fit for our Financial AI Analyst position at [Company Name].\n",
       "\n",
       "Our team is at the forefront of building cutting-edge AI-powered solutions to transform financial processes, and your expertise aligns perfectly with our vision. Specifically, your background in:\n",
       "\n",
       "*   **Machine Learning Leadership & Model Development:** Your experience in designing and deploying ML systems, coupled with your focus on \"Model Training\" and \"Algorithm Research,\" directly addresses our need for developing advanced financial forecasting, fraud detection, and risk assessment models.\n",
       "*   **Core Financial & Accounting Processes:** Your listed skills in \"general ledger,\" \"accounts payable,\" \"bank reconciliation,\" \"fixed assets,\" and \"reporting\" demonstrate a strong understanding of the financial operations we aim to automate and enhance with AI.\n",
       "*   **Data Analysis & Business Acumen:** Your proficiency with \"Excel\" and experience in \"sales\" analysis further strengthen your ability to derive meaningful insights from complex financial datasets and contribute to our business intelligence initiatives.\n",
       "\n",
       "This role offers a unique opportunity to bridge your deep ML knowledge with practical financial applications, revolutionizing how financial data is processed and analyzed. We are committed to innovation in FinTech, and your contributions would be pivotal.\n",
       "\n",
       "Would you be open to a brief 15-20 minute call next week to discuss this exciting opportunity in more detail? Please let me know what time works best for you, or if you prefer, you can book a slot directly via [Link to Calendar/Scheduling Tool].\n",
       "\n",
       "Looking forward to connecting.\n",
       "\n",
       "Best regards,\n",
       "\n",
       "[Your Name]\n",
       "[Your Title]\n",
       "[Company Name]\n",
       "[Your Contact Information]"
      ],
      "text/plain": [
       "<IPython.core.display.Markdown object>"
      ]
     },
     "metadata": {},
     "output_type": "display_data"
    },
    {
     "data": {
      "text/markdown": [
       "### Candidate 5"
      ],
      "text/plain": [
       "<IPython.core.display.Markdown object>"
      ]
     },
     "metadata": {},
     "output_type": "display_data"
    },
    {
     "data": {
      "text/markdown": [
       "Subject: Exploring a Financial AI Analyst Role at [Company Name] - A Fit for Your ML & Financial Expertise?\n",
       "\n",
       "Hi [Candidate Name],\n",
       "\n",
       "I came across your profile and was particularly impressed by your experience as a Machine Learning Engineer, especially when combined with your strong background in accounting and financial processes like General Ledger, Accounts Receivable, and Bank Reconciliations. This unique blend immediately brought to mind an exciting opportunity we have at [Company Name].\n",
       "\n",
       "We're actively seeking a **Financial AI Analyst** to join our team, a role designed for someone who can truly bridge the gap between advanced AI capabilities and core financial operations. Your expertise in **ML System Design, Model Training, and Algorithm Research** is precisely what we need to develop cutting-edge AI models for financial forecasting and fraud detection.\n",
       "\n",
       "What makes you an exceptional fit is how these technical skills are complemented by your practical experience with **QuickBooks, Excel, and general accounting/bookkeeping**. This combination is critical for our mission to automate financial reporting, streamline processes like accounts payable/receivable, and ultimately revolutionize how financial data is processed and analyzed using AI.\n",
       "\n",
       "This role offers a unique chance to apply your deep machine learning knowledge directly within the FinTech sector, solving real-world financial challenges with innovative AI solutions. If you're looking to leverage your ML engineering skills in a domain where your financial acumen will be equally valued and transformative, this could be an ideal next step for your career.\n",
       "\n",
       "Would you be open to a brief 15-20 minute chat sometime next week to explore this opportunity further? I'd be happy to share more details about our vision and how your background aligns perfectly.\n",
       "\n",
       "Best regards,\n",
       "\n",
       "[Your Name]\n",
       "[Your Title]\n",
       "[Company Name]"
      ],
      "text/plain": [
       "<IPython.core.display.Markdown object>"
      ]
     },
     "metadata": {},
     "output_type": "display_data"
    },
    {
     "data": {
      "text/markdown": [
       "### Candidate 6"
      ],
      "text/plain": [
       "<IPython.core.display.Markdown object>"
      ]
     },
     "metadata": {},
     "output_type": "display_data"
    },
    {
     "data": {
      "text/markdown": [
       "Here's the personalized recruitment email:\n",
       "\n",
       "---\n",
       "\n",
       "**Subject: An Exciting Financial AI Analyst Opportunity at [Company Name] for Your ML & Financial Expertise**\n",
       "\n",
       "Dear [Candidate Name],\n",
       "\n",
       "I hope this email finds you well.\n",
       "\n",
       "I came across your profile as an ML Engineer and was genuinely impressed by your comprehensive experience in **Machine Learning Leadership, ML System Design, and Model Training**, coupled with your practical skills in **financial processes like Accounting, Accounts Payable/Receivable, and Bank Reconciliations**. This unique blend immediately brought to mind an exciting opportunity we have at [Company Name].\n",
       "\n",
       "We are actively seeking a **Financial AI Analyst** to join our innovative FinTech team. This role is specifically designed for a professional who can bridge the gap between advanced AI capabilities and core financial operations. Your background in developing **ML/NLP infrastructure, performing statistical data analysis, and designing data pipelines** aligns perfectly with our need to build intelligent solutions for financial forecasting, fraud detection, and automated reporting.\n",
       "\n",
       "What makes you a particularly strong fit is your ability to combine these technical ML skills with hands-on experience in financial processes like **Bank Reconciliations and Invoice Management**, and proficiency with tools like **QuickBooks**. This dual expertise is precisely what we're looking for to revolutionize how financial data is processed and analyzed within our organization.\n",
       "\n",
       "This is a fantastic opportunity to apply your ML leadership and technical skills directly to real-world financial challenges, shaping the future of financial technology.\n",
       "\n",
       "Would you be open to a brief 15-minute call next week to discuss this role in more detail and explore how your experience could contribute to our mission? Please let me know what time works best for you.\n",
       "\n",
       "Best regards,\n",
       "\n",
       "[Your Name]\n",
       "[Your Title]\n",
       "[Company Name]\n",
       "[Your Contact Information]"
      ],
      "text/plain": [
       "<IPython.core.display.Markdown object>"
      ]
     },
     "metadata": {},
     "output_type": "display_data"
    },
    {
     "data": {
      "text/markdown": [
       "### Candidate 7"
      ],
      "text/plain": [
       "<IPython.core.display.Markdown object>"
      ]
     },
     "metadata": {},
     "output_type": "display_data"
    },
    {
     "data": {
      "text/markdown": [
       "Here's a draft of the personalized recruitment email:\n",
       "\n",
       "---\n",
       "\n",
       "**Subject: Opportunity for a Financial AI Analyst at [Company Name] - Your ML & Financial Background**\n",
       "\n",
       "Dear [Candidate Name],\n",
       "\n",
       "I was incredibly impressed by your profile, particularly your strong background as a Machine Learning Engineer and your experience in areas like **ML System Design** and **Model Training**. What truly caught my eye, however, was the unique combination of these advanced technical skills with your practical financial expertise, including **General Ledger** and **Bank Reconciliations**.\n",
       "\n",
       "At [Company Name], a leading FinTech company, we are actively seeking a **Financial AI Analyst** to bridge the gap between financial acumen and artificial intelligence. Your experience in **Financial Analysis** combined with your proficiency in tools like **QuickBooks** and **Excel** aligns perfectly with our need to develop intelligent solutions for financial reporting and process automation. Your proven ability in **Statistical Data Analysis** and **Algorithm Research** would be invaluable as you design and implement AI models for financial forecasting, fraud detection, and automating core accounting processes.\n",
       "\n",
       "This role offers a unique opportunity to leverage your ML expertise to revolutionize traditional financial processes, making a significant impact in the rapidly evolving FinTech space. Given your specific blend of machine learning leadership and hands-on financial skills, I believe you would be an exceptional fit.\n",
       "\n",
       "Would you be open to a brief 15-20 minute call next week to discuss how your unique blend of ML and financial skills could thrive in this role? Please let me know what time works best for you.\n",
       "\n",
       "Looking forward to connecting,\n",
       "\n",
       "Best regards,\n",
       "\n",
       "[Your Name]\n",
       "[Your Title]\n",
       "[Company Name]\n",
       "[Your Contact Information]\n",
       "[Company Website (Optional)]"
      ],
      "text/plain": [
       "<IPython.core.display.Markdown object>"
      ]
     },
     "metadata": {},
     "output_type": "display_data"
    },
    {
     "data": {
      "text/markdown": [
       "### Candidate 8"
      ],
      "text/plain": [
       "<IPython.core.display.Markdown object>"
      ]
     },
     "metadata": {},
     "output_type": "display_data"
    },
    {
     "data": {
      "text/markdown": [
       "Subject Line: Connecting Your ML Engineering & Financial Skills: Financial AI Analyst at [Company Name]\n",
       "\n",
       "Dear [Candidate Name],\n",
       "\n",
       "I came across your profile and was particularly impressed by your background as a Machine Learning Engineer, especially when combined with your demonstrated proficiency in financial processes. Your unique blend of technical expertise and practical financial understanding immediately stood out for our Financial AI Analyst role at [Company Name].\n",
       "\n",
       "At [Company Name], we're building AI-powered solutions to revolutionize financial analysis and accounting. Your experience in **ML system design, algorithm research, and model training** aligns perfectly with our need to develop cutting-edge AI models for financial forecasting, fraud detection, and process automation. Furthermore, your practical skills in **accounts receivable, general ledger accounting, and financial reporting** provide the crucial financial acumen required to apply these AI solutions effectively to real-world business challenges.\n",
       "\n",
       "This role offers a unique opportunity to leverage your deep machine learning capabilities within the dynamic FinTech sector, specifically focusing on transforming traditional financial operations through AI. It's an ideal next step for someone looking to apply their technical expertise to tangible business problems in finance and be at the forefront of innovation.\n",
       "\n",
       "Would you be open to a brief 15-20 minute call next week to discuss how your experience could contribute to our innovative projects?\n",
       "\n",
       "Best regards,\n",
       "\n",
       "[Your Name]\n",
       "[Your Title]\n",
       "[Company Name]\n",
       "[Your Contact Information]"
      ],
      "text/plain": [
       "<IPython.core.display.Markdown object>"
      ]
     },
     "metadata": {},
     "output_type": "display_data"
    },
    {
     "data": {
      "text/markdown": [
       "### Candidate 9"
      ],
      "text/plain": [
       "<IPython.core.display.Markdown object>"
      ]
     },
     "metadata": {},
     "output_type": "display_data"
    },
    {
     "data": {
      "text/markdown": [
       "Here's a personalized recruitment email for the candidate:\n",
       "\n",
       "---\n",
       "\n",
       "**Subject: Opportunity for a Machine Learning Engineer: Financial AI Analyst at [Your Company Name]**\n",
       "\n",
       "Hi [Candidate Name],\n",
       "\n",
       "I hope this email finds you well.\n",
       "\n",
       "I came across your profile and was particularly impressed by your extensive experience as a Machine Learning Engineer, especially your work in **ML System Design, Algorithm Research, and Model Training**. Your background immediately brought to mind an exciting opportunity we have at [Your Company Name] that I believe aligns perfectly with your unique skill set.\n",
       "\n",
       "We are actively seeking a **Financial AI Analyst** to join our innovative FinTech team. This role is designed for someone who can bridge advanced machine learning capabilities with deep financial insights. Given your strong foundation in ML, combined with your listed skills in **\"financial\" analysis, \"reporting,\" and \"Excel,\"** we believe you could be an exceptional fit.\n",
       "\n",
       "Your expertise in developing and deploying ML models, coupled with your understanding of financial data (as indicated by your \"financial\" skill and experience with \"processes\" and \"sales\" analysis), aligns perfectly with our need to develop AI solutions for financial forecasting, automate accounting processes, and generate intelligent financial reports. This role offers a unique chance to apply your cutting-edge ML skills to revolutionize financial operations within a leading FinTech company.\n",
       "\n",
       "Would you be open to a brief 15-20 minute call sometime next week to discuss this opportunity in more detail and explore how your background aligns with our vision?\n",
       "\n",
       "Best regards,\n",
       "\n",
       "[Your Name]\n",
       "[Your Title]\n",
       "[Your Company Name]\n",
       "[Your Contact Information]"
      ],
      "text/plain": [
       "<IPython.core.display.Markdown object>"
      ]
     },
     "metadata": {},
     "output_type": "display_data"
    }
   ],
   "source": [
    "import json\n",
    "from core.email_generator import generate_email\n",
    "from utils.parsing import candidate_to_json\n",
    "from IPython.display import display, Markdown\n",
    "\n",
    "top_candidates_json = [candidate_to_json(row) for _, row in top_candidates.iterrows()]\n",
    "\n",
    "# for i, candidate in enumerate(top_candidates_json, 1):\n",
    "#     display(Markdown(f\"### Candidate {i}\"))\n",
    "#     display(Markdown(f\"```json\\n{json.dumps(candidate, indent=2)}\\n```\"))\n",
    "\n",
    "\n",
    "\n",
    "generated_emails = [generate_email(job_description_input, json.dumps(c)) for c in top_candidates_json]\n",
    "\n",
    "for i, email in enumerate(generated_emails):\n",
    "    display(Markdown(f\"### Candidate {i+1}\"))\n",
    "    display(Markdown(email))\n"
   ]
  }
 ],
 "metadata": {
  "kernelspec": {
   "display_name": ".venv",
   "language": "python",
   "name": "python3"
  },
  "language_info": {
   "codemirror_mode": {
    "name": "ipython",
    "version": 3
   },
   "file_extension": ".py",
   "mimetype": "text/x-python",
   "name": "python",
   "nbconvert_exporter": "python",
   "pygments_lexer": "ipython3",
   "version": "3.11.6"
  }
 },
 "nbformat": 4,
 "nbformat_minor": 5
}
