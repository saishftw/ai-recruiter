{
 "cells": [
  {
   "cell_type": "markdown",
   "id": "828c7772",
   "metadata": {},
   "source": [
    "# AI Recruiter Pipeline\n",
    "\n",
    "paste a job description below and run all cells to see the top matching candidates for the JD"
   ]
  },
  {
   "cell_type": "code",
   "execution_count": null,
   "id": "c25ee6ac",
   "metadata": {},
   "outputs": [],
   "source": [
    "job_description_input = \"\"\"# Financial AI Analyst - FinTech & Data Analytics\n",
    "\n",
    "## Company Overview\n",
    "We are a leading financial technology company specializing in AI-powered solutions for accounting, financial analysis, and business intelligence. Our mission is to transform traditional financial processes through innovative machine learning applications and data-driven insights.\n",
    "\n",
    "## Position Summary\n",
    "We are seeking a Financial AI Analyst to bridge the gap between financial expertise and artificial intelligence. This role involves developing AI models for financial data analysis, automating accounting processes, and creating intelligent solutions for financial reporting and analysis. The ideal candidate will combine strong financial acumen with emerging AI capabilities to revolutionize how financial data is processed and analyzed.\n",
    "\n",
    "## Key Responsibilities\n",
    "- **Financial AI Model Development**: Design and implement machine learning models for financial forecasting, fraud detection, and risk assessment\n",
    "- **Data Analysis & Financial Insights**: Analyze large financial datasets to identify patterns, trends, and anomalies using advanced analytics\n",
    "- **Automated Financial Processes**: Develop AI solutions to streamline accounts payable, accounts receivable, and general ledger processes\n",
    "- **Financial Reporting Automation**: Create intelligent systems for generating financial reports, balance sheets, and trial balances\n",
    "- **Cross-Functional Collaboration**: Work with finance, accounting, and technology teams to implement AI-driven financial solutions\n",
    "- **Model Training & Deployment**: Train machine learning models on financial data and deploy them in production environments\n",
    "- **Documentation & Compliance**: Maintain comprehensive documentation of AI models and ensure compliance with financial regulations\n",
    "- **Business Intelligence**: Develop predictive models for sales analysis, cash flow forecasting, and financial planning\n",
    "\n",
    "## Required Qualifications\n",
    "- **Education**: Master's degree in Commerce (M.Com) or Bachelor's degree in Commerce (B.Com) with strong academic background\n",
    "- **Financial Experience**: 3+ years of experience in accounting, bookkeeping, or financial analysis\n",
    "- **Technical Skills**: Proficiency in data entry, financial software, and analytical processes\n",
    "- **Software Proficiency**: Advanced Excel skills, ERP systems, QuickBooks, MYOB, and MS Office applications\n",
    "- **Languages**: Fluency in English and Hindi preferred for client communication\n",
    "\n",
    "## Technical Skills\n",
    "- **AI/ML Frameworks**: TensorFlow, PyTorch, Scikit-learn\n",
    "- **Programming**: Python, R, or Java for financial modeling and analysis\n",
    "- **Financial Software**: QuickBooks, MYOB, ERP systems, and accounting software\n",
    "- **Data Analysis**: Excel, PowerPoint, Outlook, and MIS reporting tools\n",
    "- **Financial Processes**: General ledger, accounts payable/receivable, payroll, bank reconciliation, invoicing\n",
    "\n",
    "## Preferred Experience\n",
    "- Experience with financial data analysis and sales analysis\n",
    "- Background in cash management and fixed assets accounting\n",
    "- Knowledge of accrual accounting and financial statement preparation\n",
    "- Experience with purchasing processes and vendor management\n",
    "- Supervisory or management experience in financial operations\n",
    "- Understanding of legal and compliance requirements in finance\n",
    "\n",
    "## Key Competencies\n",
    "- **Analytical Skills**: Strong ability to analyze complex financial data and identify meaningful patterns\n",
    "- **Problem-Solving**: Innovative approach to automating traditional financial processes\n",
    "- **Communication**: Excellent written and verbal communication skills for cross-functional collaboration\n",
    "- **Team Collaboration**: Proven ability to work effectively with diverse teams\n",
    "- **Detail-Oriented**: High accuracy in financial data processing and model development\n",
    "- **Adaptability**: Willingness to learn new AI technologies and apply them to financial use cases\n",
    "\n",
    "## What We Offer\n",
    "- Opportunity to be at the forefront of AI innovation in financial services\n",
    "- Comprehensive training in machine learning and AI applications\n",
    "- Career advancement opportunities in the rapidly growing FinTech sector\n",
    "- Competitive compensation package with performance-based incentives\n",
    "- Collaborative work environment with emphasis on continuous learning\n",
    "- Exposure to cutting-edge AI technologies and financial systems\n",
    "\n",
    "## Work Environment\n",
    "This is a hybrid role combining traditional financial analysis with innovative AI development. The position requires both analytical thinking for financial processes and technical aptitude for AI model development. Remote work options available with flexible scheduling.\n",
    "\n",
    "---\n",
    "\n",
    "*We are committed to creating an inclusive workplace that values diverse perspectives and backgrounds in both finance and technology.*\n",
    "\"\"\"\n"
   ]
  },
  {
   "cell_type": "markdown",
   "id": "de6b993b",
   "metadata": {},
   "source": [
    "## install dependencies"
   ]
  },
  {
   "cell_type": "code",
   "execution_count": null,
   "id": "94cd87cd",
   "metadata": {},
   "outputs": [],
   "source": [
    "!uv add pandas\n",
    "!uv add numpy\n",
    "!uv add rapidfuzz\n",
    "!uv add sentence_transformers\n",
    "!uv add pydantic\n",
    "!uv add google-genai\n",
    "!uv add python-dotenv"
   ]
  },
  {
   "cell_type": "markdown",
   "id": "37942b02",
   "metadata": {},
   "source": [
    "## initialise candidate dataset"
   ]
  },
  {
   "cell_type": "code",
   "execution_count": null,
   "id": "c3edc9c8",
   "metadata": {},
   "outputs": [],
   "source": [
    "from core.data import process_candidate_data\n",
    "from sentence_transformers import SentenceTransformer\n",
    "\n",
    "embedding_model_name = 'all-mpnet-base-v2'\n",
    "\n",
    "model = SentenceTransformer(embedding_model_name)\n",
    "df = process_candidate_data('./data/resume_data.csv', model, reload=False)"
   ]
  },
  {
   "cell_type": "markdown",
   "id": "394d4c79",
   "metadata": {},
   "source": [
    "## extract jd using llm structured outputs"
   ]
  },
  {
   "cell_type": "code",
   "execution_count": 1,
   "id": "bc98fa20",
   "metadata": {},
   "outputs": [],
   "source": [
    "from getpass import getpass\n",
    "import os\n",
    "from dotenv import load_dotenv\n",
    "\n",
    "load_dotenv('./.env')\n",
    "\n",
    "gemini_key = os.environ['GEMINI_API_KEY']\n",
    "\n",
    "os.environ['GEMINI_API_KEY'] = getpass('Enter your Gemini API key:') if not gemini_key else gemini_key"
   ]
  },
  {
   "cell_type": "code",
   "execution_count": null,
   "id": "7eac3a78",
   "metadata": {},
   "outputs": [],
   "source": [
    "from google import genai\n",
    "from google.genai import types\n",
    "from prompts.jd_extraction import system_prompt, user_prompt\n",
    "from models.data_models import JobRoleSchema\n",
    "\n",
    "genai_client = genai.Client()\n",
    "\n",
    "def process_jd(jd: str):\n",
    "    if not jd.strip():\n",
    "        raise ValueError(\"No Job description provided\")\n",
    "\n",
    "    try:\n",
    "        response = genai_client.models.generate_content(\n",
    "            model=\"gemini-2.5-pro\",\n",
    "            contents=user_prompt.format(**{\"job_desc\": jd}),\n",
    "            config=types.GenerateContentConfig(\n",
    "                temperature=0.2,\n",
    "                system_instruction=system_prompt,\n",
    "                response_mime_type=\"application/json\",\n",
    "                response_schema=JobRoleSchema,\n",
    "            )\n",
    "        )\n",
    "        if response and response.text:\n",
    "            output = JobRoleSchema.model_validate_json(response.text)\n",
    "            return output\n",
    "        else:\n",
    "            raise ValueError(\"response.text is empty\")\n",
    "    except:\n",
    "        raise\n",
    "\n",
    "\n",
    "def load_sample_jd():\n",
    "    job_desc = \"\"\n",
    "    with open('./jd/sample_jd_01.txt', 'r') as file:\n",
    "        job_desc = file.read()\n",
    "\n",
    "    return job_desc\n",
    "\n",
    "sample_jd = load_sample_jd()\n",
    "\n",
    "processed_jd = process_jd(job_description_input if job_description_input else sample_jd)\n",
    "\n",
    "print(processed_jd.model_dump_json(indent=2, exclude_unset=True, exclude_none=False))"
   ]
  },
  {
   "cell_type": "markdown",
   "id": "9e84f452",
   "metadata": {},
   "source": [
    "## filter and score candidates"
   ]
  },
  {
   "cell_type": "markdown",
   "id": "4448939c",
   "metadata": {},
   "source": [
    "### filter candidates by job title"
   ]
  },
  {
   "cell_type": "code",
   "execution_count": null,
   "id": "8901f0fc",
   "metadata": {},
   "outputs": [],
   "source": [
    "from core.matching import fuzzy_match\n",
    "from sentence_transformers import util\n",
    "\n",
    "\n",
    "def fuzzy_job_title_score(threshold=0.4):\n",
    "    role_scores = fuzzy_match(df['job_position_name'].tolist(), [processed_jd.role])\n",
    "    df['title_score'] = role_scores[:, 0] / 100\n",
    "    \n",
    "    return df[df['title_score'] >= threshold]\n",
    "\n",
    "\n",
    "def similarity_match(item1: str, item2: str):\n",
    "    item1_embedding = model.encode(item1, convert_to_tensor=True)\n",
    "    item2_embedding = model.encode(item2, convert_to_tensor=True)\n",
    "\n",
    "    return util.cos_sim(item1_embedding, item2_embedding).item()\n",
    "\n",
    "def similarity_job_title_score(threshold=0.6):\n",
    "    df['title_score'] = df.apply(lambda x: similarity_match(x['job_position_name'], processed_jd.role), axis=1)\n",
    "    \n",
    "    return df[df['title_score'] >= threshold]\n",
    "\n",
    "\n",
    "df_filtered = fuzzy_job_title_score() \n",
    "# df_filtered = similarity_job_title_score() # improve filter by switching to semantic similarity (takes too long!!)\n",
    "\n",
    "print(f\"filtered candidates: {len(df_filtered)}\")\n",
    "print(\"\")\n",
    "print(df[['candidate_id', 'job_position_name', 'title_score']])"
   ]
  },
  {
   "cell_type": "markdown",
   "id": "1ae28466",
   "metadata": {},
   "source": [
    "### score candidates by skills"
   ]
  },
  {
   "cell_type": "code",
   "execution_count": null,
   "id": "fab89cdb",
   "metadata": {},
   "outputs": [],
   "source": [
    "import pandas as pd\n",
    "from core.matching import weighted_fuzzy_skill_score\n",
    "from models.data_models import Skill\n",
    "\n",
    "if not processed_jd:\n",
    "    raise ValueError('JD is corrupted or not processed')\n",
    "\n",
    "if len(df_filtered) == 0:\n",
    "    raise ValueError('No candidates found')\n",
    "\n",
    "def calculate_skill_score(df: pd.DataFrame, filter = False):\n",
    "    jd_skills = processed_jd.skills\n",
    "\n",
    "    if processed_jd.technologies:\n",
    "        for t in processed_jd.technologies:\n",
    "            jd_skills.append(\n",
    "                Skill(\n",
    "                    skill=t.technology,\n",
    "                    priority=t.priority,\n",
    "                    proficiency_level=None\n",
    "                )\n",
    "            )\n",
    "\n",
    "    print(jd_skills)\n",
    "\n",
    "    # df_filtered['skill_score'] = df_filtered.apply(lambda x: weighted_fuzzy_skill_score(x['candidate_id'], jd_skills, x['all_skills']), axis=1)\n",
    "    skill_results = df.apply(\n",
    "        lambda x: weighted_fuzzy_skill_score(x['candidate_id'], jd_skills, x['all_skills']),\n",
    "        axis=1\n",
    "    )\n",
    "\n",
    "    skill_results_df = pd.json_normalize(skill_results.tolist())\n",
    "    df['skill_score'] = skill_results_df['score']\n",
    "    df['matched_skills'] = skill_results_df['matched_skills']\n",
    "\n",
    "    # filter by skill\n",
    "    if filter:\n",
    "        SKILL_SCORE_THRESHOLD = 0.25\n",
    "        df = df[df['skill_score'] >= SKILL_SCORE_THRESHOLD]\n",
    "        print(f\"filtered candidates: {len(df)}\")\n",
    "\n",
    "    print(df[['candidate_id', 'job_position_name', 'skill_score']])\n",
    "\n",
    "    return df\n",
    "\n",
    "\n",
    "\n",
    "df_filtered = calculate_skill_score(df_filtered)\n",
    "\n",
    "# pd.set_option('display.max_rows', None)\n",
    "# pd.set_option('display.max_columns', None)\n",
    "# pd.set_option('display.width', 1000)\n",
    "# pd.set_option('display.max_colwidth', None)\n",
    "# df_filtered"
   ]
  },
  {
   "cell_type": "markdown",
   "id": "3203b0a7",
   "metadata": {},
   "source": [
    "### score candidates by qualifications"
   ]
  },
  {
   "cell_type": "code",
   "execution_count": null,
   "id": "d6417ba0",
   "metadata": {},
   "outputs": [],
   "source": [
    "from core.matching import weighted_fuzzy_qualification_score\n",
    "\n",
    "def calculate_qualification_score(df: pd.DataFrame, filter = False):\n",
    "    if processed_jd and processed_jd.qualifications and processed_jd.qualifications.education:\n",
    "        qualification_results = df.apply(\n",
    "            lambda x: weighted_fuzzy_qualification_score(\n",
    "                x['candidate_id'], \n",
    "                processed_jd.qualifications.education, # type: ignore\n",
    "                { \"degrees\": x['degree_names_norm'],  \"fields\": x['major_field_of_studies']} \n",
    "            ), axis=1)\n",
    "        \n",
    "        qualification_results_df = pd.DataFrame(qualification_results.tolist())\n",
    "        df['qualification_score'] = qualification_results_df['score']\n",
    "        df['matched_qualifications'] = qualification_results_df['matched_qualifications']\n",
    "        \n",
    "        # filter by qualification\n",
    "        if filter: \n",
    "            QUALIFICATION_SCORE_THRESHOLD = 0.2\n",
    "            df = df[df['qualification_score'] >= QUALIFICATION_SCORE_THRESHOLD]\n",
    "            print(f\"filtered candidates: {len(df)}\")\n",
    "\n",
    "        print(df[['candidate_id', 'job_position_name', 'qualification_score']])\n",
    "    else:\n",
    "        df['qualification_score'] = 0.0\n",
    "        df['matched_qualifications'] = None\n",
    "    return df\n",
    "\n",
    "\n",
    "df_filtered = calculate_qualification_score(df_filtered)"
   ]
  },
  {
   "cell_type": "markdown",
   "id": "d09de0cd",
   "metadata": {},
   "source": [
    "### calculate similarity score"
   ]
  },
  {
   "cell_type": "code",
   "execution_count": null,
   "id": "16264d27",
   "metadata": {},
   "outputs": [],
   "source": [
    "import torch\n",
    "from sentence_transformers.util import cos_sim\n",
    "from core.embedding import build_jd_embedding_input\n",
    "\n",
    "jd_text = build_jd_embedding_input(processed_jd)\n",
    "jd_embedding = model.encode(jd_text, convert_to_tensor=True).cpu()\n",
    "\n",
    "candidate_embeddings = torch.stack([torch.tensor(vec) for vec in df_filtered['profile_embedding']])\n",
    "\n",
    "similarities = cos_sim(candidate_embeddings, jd_embedding).squeeze().cpu().numpy()\n",
    "\n",
    "df_filtered['similarity_score'] = similarities\n",
    "\n",
    "df_filtered[['candidate_id', 'similarity_score']]"
   ]
  },
  {
   "cell_type": "markdown",
   "id": "940f8c19",
   "metadata": {},
   "source": [
    "## calculate total score and filter"
   ]
  },
  {
   "cell_type": "code",
   "execution_count": null,
   "id": "154343d4",
   "metadata": {},
   "outputs": [],
   "source": [
    "from models.mappings import candidate_score_weights\n",
    "\n",
    "# Compute the weighted total score\n",
    "total_score = (\n",
    "    candidate_score_weights['title_score'] * df_filtered['title_score'] +\n",
    "    candidate_score_weights['skill_score'] * df_filtered['skill_score'] +\n",
    "    candidate_score_weights['similarity_score'] * df_filtered['similarity_score']\n",
    ")\n",
    "if processed_jd.qualifications and processed_jd.qualifications.education:\n",
    "    total_score += candidate_score_weights['qualification_score'] * df_filtered['qualification_score']\n",
    "df_filtered['total_score'] = total_score\n",
    "\n",
    "top_candidates = df_filtered.sort_values(by='total_score', ascending=False).head(3)\n",
    "\n",
    "# df_filtered['match_explanation'] = df_filtered.apply(lambda row: f\"Title: {row.title_score:.2f}, Skills: {row.skill_score:.2f}, Qual: {row.qualification_score:.2f}, Sem: {row.similarity_score:.2f}\", axis=1)\n",
    "# df_filtered['match_explanation']\n",
    "\n",
    "cols_to_display = ['candidate_id', 'job_position_name', 'total_score', 'title_score', 'skill_score', 'matched_skills', 'qualification_score', 'matched_qualifications', 'similarity_score']\n",
    "top_candidates[cols_to_display]\n"
   ]
  },
  {
   "cell_type": "markdown",
   "id": "91153c45",
   "metadata": {},
   "source": [
    "## draft emails to the selected candidates"
   ]
  },
  {
   "cell_type": "code",
   "execution_count": null,
   "id": "1e4bbb5c",
   "metadata": {},
   "outputs": [],
   "source": [
    "import json\n",
    "from core.email_generator import generate_email\n",
    "from utils.parsing import candidate_to_json\n",
    "from IPython.display import display, Markdown\n",
    "\n",
    "top_candidates_json = [candidate_to_json(row) for _, row in top_candidates.iterrows()]\n",
    "\n",
    "# for i, candidate in enumerate(top_candidates_json, 1):\n",
    "#     display(Markdown(f\"### Candidate {i}\"))\n",
    "#     display(Markdown(f\"```json\\n{json.dumps(candidate, indent=2)}\\n```\"))\n",
    "\n",
    "\n",
    "\n",
    "generated_emails = [generate_email(job_description_input, json.dumps(c)) for c in top_candidates_json]\n",
    "\n",
    "for i, email in enumerate(generated_emails):\n",
    "    display(Markdown(f\"### Candidate {i+1}\"))\n",
    "    display(Markdown(email))\n"
   ]
  }
 ],
 "metadata": {
  "kernelspec": {
   "display_name": ".venv",
   "language": "python",
   "name": "python3"
  },
  "language_info": {
   "codemirror_mode": {
    "name": "ipython",
    "version": 3
   },
   "file_extension": ".py",
   "mimetype": "text/x-python",
   "name": "python",
   "nbconvert_exporter": "python",
   "pygments_lexer": "ipython3",
   "version": "3.11.6"
  }
 },
 "nbformat": 4,
 "nbformat_minor": 5
}
